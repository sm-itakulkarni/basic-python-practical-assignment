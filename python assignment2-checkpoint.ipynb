{
 "cells": [
  {
   "cell_type": "markdown",
   "id": "36c52717",
   "metadata": {},
   "source": [
    "# 1.What are the two values of the Boolean data type? How do you write them?\n",
    "\n",
    "#Answer:\n",
    "  Python boolean type is one of the built-in data types provided by Python, which represents one of the two values i.e. True or False. Generally, \n",
    "it is used to represent the truth values of the expressions. For example, 1== 0 is True whereas 2<1 is False."
   ]
  },
  {
   "cell_type": "markdown",
   "id": "2145b685",
   "metadata": {},
   "source": [
    "# 2. What are the three different types of Boolean operators?\n",
    "\n",
    "#Answer:\n",
    "Boolean Operators are the operators that operate on the Boolean values, and if it is applied on a non-Boolean value, \n",
    "then the value is first typecasted and then operated upon. These might also be regarded as the logical operators, \n",
    "and the final result of the Boolean operation is a Boolean value, True or False.\n",
    "\n",
    "The logical operators and, or and not are also referred to as boolean operators. \n",
    "While and as well as or operator needs two operands, which may evaluate to true or false, \n",
    "not operator needs one operand evaluating to true or false.\n",
    "Boolean and operator returns true if both operands return true."
   ]
  },
  {
   "cell_type": "markdown",
   "id": "aa1cc930",
   "metadata": {},
   "source": [
    "# 3. Make a list of each Boolean operator's truth tables \n",
    "#(i.e. every possible combination of Boolean values for the operator and what it evaluate ).\n",
    "\n",
    "#Answer:\n",
    "#and truthtable\n",
    "\n",
    " AND Truth Table          Result \n",
    " A = False, B = False      False   \n",
    " A = False, B = True       False   \n",
    " A = True, B = False       False   \n",
    " A = True, B = True        True\n",
    "    \n",
    "\n",
    "    \n",
    "# or truthtable\n",
    "\n",
    " OR Truth Table           Result \n",
    " A = False, B = False      False  \n",
    " A = False, B = True       True   \n",
    " A = True, B = False       True   \n",
    " A = True, B = True        True\n",
    "    \n",
    "    \n",
    "    \n",
    "# not truthtable\n",
    "\n",
    "  NOT Truth Table     Result \n",
    " A = False             0\n",
    " A = True,             1 \n",
    "\n",
    "    \n",
    "    \n",
    "\n",
    "\n"
   ]
  },
  {
   "cell_type": "markdown",
   "id": "e90bcf95",
   "metadata": {},
   "source": [
    "# 4. What are the values of the following expressions?\n",
    "(5 > 4) and (3 == 5)\n",
    "not (5 > 4)\n",
    "(5 > 4) or (3 == 5)\n",
    "not ((5 > 4) or (3 == 5))\n",
    "(True and True) and (True == False)\n",
    "(not False) or (not True)\n",
    "\n",
    "\n",
    "#the outputs of the above statements are executed as given below seperately:"
   ]
  },
  {
   "cell_type": "code",
   "execution_count": 10,
   "id": "d92a666d",
   "metadata": {},
   "outputs": [
    {
     "data": {
      "text/plain": [
       "False"
      ]
     },
     "execution_count": 10,
     "metadata": {},
     "output_type": "execute_result"
    }
   ],
   "source": [
    "(5 > 4) and (3 == 5)"
   ]
  },
  {
   "cell_type": "code",
   "execution_count": 11,
   "id": "d6ae47ac",
   "metadata": {},
   "outputs": [
    {
     "data": {
      "text/plain": [
       "False"
      ]
     },
     "execution_count": 11,
     "metadata": {},
     "output_type": "execute_result"
    }
   ],
   "source": [
    "not (5 > 4)"
   ]
  },
  {
   "cell_type": "code",
   "execution_count": 12,
   "id": "823f5eac",
   "metadata": {},
   "outputs": [
    {
     "data": {
      "text/plain": [
       "True"
      ]
     },
     "execution_count": 12,
     "metadata": {},
     "output_type": "execute_result"
    }
   ],
   "source": [
    "(5 > 4) or (3 == 5)"
   ]
  },
  {
   "cell_type": "code",
   "execution_count": 13,
   "id": "55af77d5",
   "metadata": {},
   "outputs": [
    {
     "data": {
      "text/plain": [
       "False"
      ]
     },
     "execution_count": 13,
     "metadata": {},
     "output_type": "execute_result"
    }
   ],
   "source": [
    "not ((5 > 4) or (3 == 5))"
   ]
  },
  {
   "cell_type": "code",
   "execution_count": 14,
   "id": "68639a1b",
   "metadata": {},
   "outputs": [
    {
     "data": {
      "text/plain": [
       "False"
      ]
     },
     "execution_count": 14,
     "metadata": {},
     "output_type": "execute_result"
    }
   ],
   "source": [
    "(True and True) and (True == False)"
   ]
  },
  {
   "cell_type": "code",
   "execution_count": 15,
   "id": "6ce22012",
   "metadata": {},
   "outputs": [
    {
     "data": {
      "text/plain": [
       "True"
      ]
     },
     "execution_count": 15,
     "metadata": {},
     "output_type": "execute_result"
    }
   ],
   "source": [
    "(not False) or (not True)"
   ]
  },
  {
   "cell_type": "markdown",
   "id": "fd621510",
   "metadata": {},
   "source": [
    "# 5. What are the six comparison operators?\n",
    "\n",
    "#Answer:\n",
    "\n",
    "These operators compare the values on either sides of them and decide the relation among them. They are also called Relational operators.\n",
    "\n",
    "Assume variable a holds 10 and variable b holds 20, then −\n",
    "\n",
    "Operator\t         Description\t                                Example\n",
    "1.==\t            If the values of two operands are equal, \n",
    "                    then the condition becomes true.\t            (a == b) is not true.\n",
    "    \n",
    "2.!=\t            If values of two operands are not equal, \n",
    "                    then condition becomes true.\t                (a != b) is true.\n",
    "    \n",
    "3.<>\t            If values of two operands are not equal, \n",
    "                    then condition becomes true.\t                (a <> b) is true. \n",
    "    \n",
    "4.>\t                If the value of left operand is greater than\n",
    "                    the value of right operand, \n",
    "                    then condition becomes true.\t                (a > b) is not true.\n",
    "        \n",
    "        \n",
    "5.<\t                If the value of left operand is less than \n",
    "                    the value of right operand, \n",
    "                    then condition becomes true.\t                (a < b) is true.\n",
    "        \n",
    "        \n",
    "6.>=\t            If the value of left operand is greater than \n",
    "                     or equal to the value of right operand, \n",
    "                    then condition becomes true.\t                (a >= b) is not true.\n",
    "        \n",
    "        \n",
    "7.<=\t           If the value of left operand is less than or equal\n",
    "                   to the value of right operand, \n",
    "                   then condition becomes true.\t                      (a <= b) is true.\n",
    "        \n",
    "        \n",
    "        \n",
    "\n",
    "        \n",
    "#6. How do you tell the difference between the equal to and assignment \n",
    "#operators?Describe a condition and when you would use one.    \n",
    "\n",
    "\n",
    "#Answer:\n",
    "\n",
    "The “=” is an assignment operator is used to assign the value on the right to the variable on the left. \n",
    "The '==' operator checks whether the two given operands are equal or not. \n",
    "If so, it returns true. Otherwise it returns false.\n",
    "\n",
    "\n",
    "#example:\n",
    "#assignment operator:\n",
    "a == b\n",
    "\n",
    "\n",
    "#equal operator:\n",
    "c = 7\n",
    "\n",
    "\n",
    "\n",
    "#7. Identify the three blocks in this code:\n",
    "\n",
    "spam = 0\n",
    "if spam == 10:\n",
    "print('eggs')\n",
    "if spam > 5:\n",
    "print('bacon')\n",
    "else:\n",
    "print('ham')\n",
    "print('spam')\n",
    "print('spam')\n",
    "\n",
    "\n",
    "#Answer:\n",
    "\n",
    "The three blocks in the above code are :\n",
    "    1. if block which is going to print 'egg'\n",
    "    \n",
    "    2. the second if block is going to print 'bacon'\n",
    "    \n",
    "    3. the third else block is going to print 'ham' , 2 times'spam '. \n",
    "    \n",
    "    \n",
    "\n",
    "    \n"
   ]
  },
  {
   "cell_type": "code",
   "execution_count": 33,
   "id": "cbbd562e",
   "metadata": {},
   "outputs": [
    {
     "name": "stdout",
     "output_type": "stream",
     "text": [
      "Greetings!\n"
     ]
    }
   ],
   "source": [
    "#8. Write code that prints Hello if 1 is stored in spam, \n",
    "#prints Howdy if 2 is stored in spam, and prints Greetings! if anything else is stored in spam.\n",
    "\n",
    "\n",
    "spam = []\n",
    "\n",
    "if spam == 1:\n",
    "    print('Hello')\n",
    "if spam == 2:\n",
    "    print('Howdy')\n",
    "else:\n",
    "    print('Greetings!')\n",
    "\n"
   ]
  },
  {
   "cell_type": "code",
   "execution_count": 34,
   "id": "08e33662",
   "metadata": {},
   "outputs": [],
   "source": [
    "#9.If your programme is stuck in an endless loop, what keys you’ll press?\n",
    "\n",
    "#answer:\n",
    "\n",
    "If the program is running from the command line you should be able to press Ctrl-C to force it to exit."
   ]
  },
  {
   "cell_type": "markdown",
   "id": "181f4d86",
   "metadata": {},
   "source": [
    "# 10. How can you tell the difference between break and continue?\n",
    "\n",
    "\n",
    "#answer:\n",
    "\n",
    "Break Statement:\n",
    "    This statement terminates the smallest enclosing loop (i.e., while, do-while, for loop, or switch statement)\n",
    "    The break statement is usually used with the switch statement, \n",
    "    and it can also use it within the while loop, do-while loop, or the for-loop.\n",
    "    \n",
    "Continue Statement:\n",
    "    This statement skips the rest of the loop statement and starts the next iteration of the loop to take place.\n",
    "    The continue statement is not used with the switch statement, \n",
    "    but it can be used within the while loop, do-while loop, or for-loop.\n",
    "    \n",
    "    \n",
    "    \n",
    "    \n",
    "#Q.11.In a for loop, what is the difference between range(10), range(0, 10), and range(0, 10, 1)?\n",
    "\n",
    "\n",
    "\n",
    "#answer:\n",
    "\n",
    "Python range() function generates the immutable sequence of numbers starting from the given start integer to the stop integer. It is a built-in function that returns a range object consists of a series of integer numbers, which we can iterate using a for loop.\n",
    "\n",
    "In Python, Using a for loop with range(), we can repeat an action a specific number of times.\n",
    "\n",
    "\n",
    "Exmaple:\n",
    "\n",
    "range(10) : it will work from the 0th dimension to the 9th dimension.So it will print the till 9 ,satrting with 0.\n",
    "\n",
    "range(0,10)\n",
    "\n",
    "range(0, 10). Here, start=0 and stop = 10. It will generate integers starting from the start number to stop -1. i.e., [0, 1, 2, 3, 4, 5,6,7,8,9]\n",
    "\n",
    "\n",
    "\n",
    "range(0, 10, 1)\n",
    "\n",
    "The step Specify the increment. For example, range(0, 10, 1). Here, stepsize = 1. Result is [0, 1, 1]\n",
    "\n",
    "\n",
    "\n",
    "#Q.12 12. Write a short program that prints the numbers 1 to 10 using a for loop. Then write an equivalent program that prints the numbers 1 to 10 using a while loop.\n",
    "\n",
    "\n",
    "\n",
    "#Answer:\n",
    "\n",
    "Program using while loop:\n",
    "\n",
    "\n",
    "i = 1\n",
    "while(i<=10):\n",
    "    print(i)\n",
    "    i += 1\n",
    "\n"
   ]
  },
  {
   "cell_type": "code",
   "execution_count": 1,
   "id": "0bff2063",
   "metadata": {},
   "outputs": [],
   "source": [
    "#Q.12 12. Write a short program that prints the numbers 1 to 10 using a for loop. Then write an equivalent program that prints the numbers 1 to 10 using a while loop."
   ]
  },
  {
   "cell_type": "code",
   "execution_count": 2,
   "id": "adf3e671",
   "metadata": {},
   "outputs": [
    {
     "name": "stdout",
     "output_type": "stream",
     "text": [
      "1\n",
      "2\n",
      "3\n",
      "4\n",
      "5\n",
      "6\n",
      "7\n",
      "8\n",
      "9\n",
      "10\n"
     ]
    }
   ],
   "source": [
    "#Answer:\n",
    "\n",
    "#Program using while loop:\n",
    "\n",
    "\n",
    "i = 1\n",
    "while(i<=10):\n",
    "    print(i)\n",
    "    i += 1"
   ]
  },
  {
   "cell_type": "code",
   "execution_count": 3,
   "id": "b6a77b74",
   "metadata": {},
   "outputs": [
    {
     "name": "stdout",
     "output_type": "stream",
     "text": [
      "1\n",
      "2\n",
      "3\n",
      "4\n",
      "5\n",
      "6\n",
      "7\n",
      "8\n",
      "9\n",
      "10\n"
     ]
    }
   ],
   "source": [
    "#program using for loop\n",
    "\n",
    "for i in range(1, 11):\n",
    "    print(i)"
   ]
  },
  {
   "cell_type": "markdown",
   "id": "4fc8318c",
   "metadata": {},
   "source": [
    "# Q.13.. If you had a function named bacon() inside a module named spam, how would you call it after importing spam?\n",
    "\n"
   ]
  },
  {
   "cell_type": "markdown",
   "id": "2fe18613",
   "metadata": {},
   "source": [
    "#Answer:\n",
    "\n",
    "if i have a function named bacon() inside a module named spam,i will simply call it by its name as it is in the scope of the function.\n",
    "\n",
    "bacon(arg1, arg2)"
   ]
  },
  {
   "cell_type": "code",
   "execution_count": null,
   "id": "75fdb005",
   "metadata": {},
   "outputs": [],
   "source": []
  }
 ],
 "metadata": {
  "kernelspec": {
   "display_name": "Python 3",
   "language": "python",
   "name": "python3"
  },
  "language_info": {
   "codemirror_mode": {
    "name": "ipython",
    "version": 3
   },
   "file_extension": ".py",
   "mimetype": "text/x-python",
   "name": "python",
   "nbconvert_exporter": "python",
   "pygments_lexer": "ipython3",
   "version": "3.8.8"
  }
 },
 "nbformat": 4,
 "nbformat_minor": 5
}
