{
 "cells": [
  {
   "cell_type": "markdown",
   "id": "a339ec31",
   "metadata": {},
   "source": [
    "#Q.1 Why are functions advantageous to have in your programs?\n",
    "\n",
    "\n",
    "#answer:Functions reduce the need for duplicate code. This makes programs shorter, easier to read, and easier to update. A function call is what moves the program execution into the function, and the function call evaluates to the function's return value.\n",
    "\n"
   ]
  },
  {
   "cell_type": "markdown",
   "id": "e2e6ba69",
   "metadata": {},
   "source": [
    "#Q.2 When does the code in a function run: when it's specified or when it's called?\n",
    "\n",
    "\n",
    "#Answer:\n",
    "\n",
    "the code in the function run when the respective function is called not when it is specified or defined."
   ]
  },
  {
   "cell_type": "markdown",
   "id": "4bbc982c",
   "metadata": {},
   "source": [
    "#Q.3What statement creates a function?\n",
    "\n",
    "\n",
    "#answer:\n",
    "A function in Python is a logical unit of code containing a sequence of statements indented under a name given using the “def” keyword.\n",
    "\n",
    "example:\n",
    "\n",
    "#singleline function:\n",
    "\n",
    "def single_line(): statement\n",
    "\n",
    "#Python function with docstring:\n",
    "\n",
    "def fn(arg1, arg2,...):\n",
    "    \"\"\"docstring\"\"\"\n",
    "    statement1\n",
    "    statement2"
   ]
  },
  {
   "cell_type": "markdown",
   "id": "5dc28d25",
   "metadata": {},
   "source": [
    "#Q.4 . What is the difference between a function and a function call?\n",
    "\n",
    "#answer:\n",
    "\n",
    "Function:\n",
    "\n",
    "A function is a block of code that does a particular operation and returns a result. It usually accepts inputs as parameters and returns a result. The parameters are not mandatory.\n",
    "\n",
    "\n",
    "Function call:\n",
    "\n",
    "A function call means invoking or calling that function. Unless a function is called there is no use of that function.\n",
    "Using a function to do a particular task any point in program is called as function call.\n",
    "\n"
   ]
  },
  {
   "cell_type": "markdown",
   "id": "b93d51b6",
   "metadata": {},
   "source": [
    "#Q.5 . How many global scopes are there in a Python program? How many local scopes?\n",
    "\n",
    "Answer:\n",
    "    \n",
    "    The scope of global variables is the entire program whereas the scope of local variable is limited to the function where it is defined.\n",
    "    \n",
    "    \n",
    "    "
   ]
  },
  {
   "cell_type": "code",
   "execution_count": 4,
   "id": "62ff6442",
   "metadata": {},
   "outputs": [
    {
     "name": "stdout",
     "output_type": "stream",
     "text": [
      "15\n"
     ]
    }
   ],
   "source": [
    "#example for local variable:\n",
    "\n",
    "#Local variables can only be reached within their scope(like func() above).\n",
    "\n",
    "#Like in below program- there are two local variables – x and y.\n",
    "\n",
    "def sum(x,y):\n",
    "    sum = x + y\n",
    "    return sum\n",
    "print(sum(5, 10))"
   ]
  },
  {
   "cell_type": "code",
   "execution_count": 6,
   "id": "7cb8e0c8",
   "metadata": {},
   "outputs": [
    {
     "name": "stdout",
     "output_type": "stream",
     "text": [
      "25\n",
      "20\n"
     ]
    }
   ],
   "source": [
    "##example for globalvariables:\n",
    "\n",
    "#A global variable can be used anywhere in the program as its scope is the entire program.\n",
    "\n",
    "z = 25\n",
    "def func():\n",
    "    global z\n",
    "print(z)\n",
    "z=20\n",
    "func()\n",
    "print(z)"
   ]
  },
  {
   "cell_type": "markdown",
   "id": "9645e8f9",
   "metadata": {},
   "source": [
    "#Q. 6What happens to variables in a local scope when the function call returns?\n",
    "\n",
    "\n",
    "#answer:\n",
    "\n",
    "A local variable retains its value until the next time the function is called\n",
    "\n",
    "A local variable becomes undefined after the function call completes\n",
    "\n",
    "The local variable can be used outside the function any time after the function call completes.\n",
    "\n",
    "The local variable can be used outside the function any time after the function call completes."
   ]
  },
  {
   "cell_type": "markdown",
   "id": "3e7a778f",
   "metadata": {},
   "source": [
    "#Q.7 . What is the concept of a return value? Is it possible to have a return value in an expression?\n",
    "\n",
    "#Answer:\n",
    "\n",
    "A return statement is used to end the execution of the function call and “returns” the result (value of the expression following the return keyword) to the caller. The statements after the return statements are not executed. If the return statement is without any expression, then the special value None is returned.\n",
    "\n",
    "yes, it is possible to have a return value in an expression.\n",
    "\n"
   ]
  },
  {
   "cell_type": "markdown",
   "id": "bb8511c5",
   "metadata": {},
   "source": [
    "#Q.8.If a function does not have a return statement, what is the return value of a call to that function?\n",
    "\n",
    "\n",
    "#Answer:\n",
    "\n",
    "If a function doesn't specify a return value, it returns None.\n",
    "\n",
    "In an if/then conditional statement, None evaluates to False. So in theory you could check the return value of this function for success/failure."
   ]
  },
  {
   "cell_type": "markdown",
   "id": "ec466abb",
   "metadata": {},
   "source": [
    "#Q.9. How do you make a function variable refer to the global variable?\n",
    "\n",
    "#answer:\n",
    "\n",
    "If we want to refer to a global variable in a function, we can use the global keyword to declare which variables are global.\n",
    "\n",
    "\n"
   ]
  },
  {
   "cell_type": "markdown",
   "id": "14a65a9e",
   "metadata": {},
   "source": [
    "# Q.10What is the data type of None?"
   ]
  },
  {
   "cell_type": "markdown",
   "id": "fc324d88",
   "metadata": {},
   "source": [
    "Answer:\n",
    "\n",
    "None is used to define a null value. It is not the same as an empty string, False, or a zero. It is a data type of the class NoneType object. Assigning a value of None to a variable is one way to reset it to its original, empty state."
   ]
  },
  {
   "cell_type": "markdown",
   "id": "095e3d3f",
   "metadata": {},
   "source": [
    "#Q.11 What does the sentence import areallyourpetsnamederic do?"
   ]
  },
  {
   "cell_type": "code",
   "execution_count": 8,
   "id": "26b2dcbf",
   "metadata": {},
   "outputs": [
    {
     "ename": "ModuleNotFoundError",
     "evalue": "No module named 'areallyourpetsnamederic'",
     "output_type": "error",
     "traceback": [
      "\u001b[1;31m---------------------------------------------------------------------------\u001b[0m",
      "\u001b[1;31mModuleNotFoundError\u001b[0m                       Traceback (most recent call last)",
      "\u001b[1;32m<ipython-input-8-b1ea9cb2228f>\u001b[0m in \u001b[0;36m<module>\u001b[1;34m\u001b[0m\n\u001b[1;32m----> 1\u001b[1;33m \u001b[1;32mimport\u001b[0m \u001b[0mareallyourpetsnamederic\u001b[0m\u001b[1;33m\u001b[0m\u001b[1;33m\u001b[0m\u001b[0m\n\u001b[0m",
      "\u001b[1;31mModuleNotFoundError\u001b[0m: No module named 'areallyourpetsnamederic'"
     ]
    }
   ],
   "source": [
    "#answer:\n",
    "\n",
    "import areallyourpetsnamederic"
   ]
  },
  {
   "cell_type": "markdown",
   "id": "7fd7b10f",
   "metadata": {},
   "source": [
    "#Q.12 If you had a bacon() feature in a spam module, what would you call it after importing spam?\n",
    "\n",
    "#answer:\n",
    "\n",
    "if i have a function named bacon() inside a module named spam,i will simply call it by its name as it is in the scope of the function.\n",
    "\n",
    "bacon(arg1, arg2)"
   ]
  },
  {
   "cell_type": "markdown",
   "id": "d5c06d57",
   "metadata": {},
   "source": [
    "#Q.13. What can you do to save a programme from crashing if it encounters an error?\n",
    "\n",
    "#Answer:\n",
    "\n",
    "Prevents program from crashing if an error occurs. If an error occurs in a program, we don't want the program to unexpectedly crash on the user. Instead, error handling can be used to notify the user of why the error occurred and gracefully exit the process that caused the error."
   ]
  },
  {
   "cell_type": "markdown",
   "id": "1de16ce2",
   "metadata": {},
   "source": [
    "#Q.14 What is the purpose of the try clause? What is the purpose of the except clause?\n",
    "\n",
    "\n",
    "#answer:\n",
    "\n",
    "##try clause::\n",
    "The try block lets you test a block of code for errors.Try statement is used to handle these errors within our code in Python. The try block is used to check some code for errors i.e the code inside the try block will execute when there is no error in the program. \n",
    "\n",
    "\n",
    "\n",
    "##except clause::\n",
    "The except block lets you handle the error.The code inside the except block will execute whenever the program encounters some error in the preceding try block.\n",
    "\n"
   ]
  },
  {
   "cell_type": "code",
   "execution_count": 9,
   "id": "bca86d17",
   "metadata": {},
   "outputs": [
    {
     "data": {
      "text/plain": [
       "'\\nexample:\\n\\n\\ntry:\\n     Some Code\\nexcept:\\n     Executed if error in the\\n     try block\\n'"
      ]
     },
     "execution_count": 9,
     "metadata": {},
     "output_type": "execute_result"
    }
   ],
   "source": [
    "\n",
    "\"\"\"\n",
    "syntax:\n",
    "\n",
    "\n",
    "try:\n",
    "     Some Code\n",
    "except:\n",
    "     Executed if error in the\n",
    "     try block\n",
    "\"\"\""
   ]
  },
  {
   "cell_type": "markdown",
   "id": "5a2c4bc3",
   "metadata": {},
   "source": [
    "1.First, try clause is executed i.e. the code between try and except clause.\n",
    "2.If there is no exception, then only try clause will run, except clause is finished.\n",
    "3.If any exception occured, try clause will be skipped and except clause will run.\n",
    "4.If any exception occurs, but the except clause within the code doesn’t handle it, it is passed on to the outer try statements. If the exception left unhandled, then the execution stops.\n",
    "5.A try statement can have more than one except clause."
   ]
  },
  {
   "cell_type": "code",
   "execution_count": 20,
   "id": "b968ebc5",
   "metadata": {},
   "outputs": [],
   "source": [
    "def divide(x, y):\n",
    "    try:\n",
    "        \n",
    "        result = x / y\n",
    "        print(\"Yeah ! Your answer is :\", result)\n",
    "    except ZeroDivisionError:\n",
    "        print(\"Sorry ! You are dividing by zero \")"
   ]
  },
  {
   "cell_type": "code",
   "execution_count": 21,
   "id": "29c60e20",
   "metadata": {},
   "outputs": [
    {
     "name": "stdout",
     "output_type": "stream",
     "text": [
      "Yeah ! Your answer is : 2.5\n"
     ]
    }
   ],
   "source": [
    "divide(5,2)"
   ]
  },
  {
   "cell_type": "code",
   "execution_count": 22,
   "id": "66c64f7c",
   "metadata": {},
   "outputs": [],
   "source": [
    "def divide(x, y):\n",
    "    try:\n",
    "        \n",
    "        result = x // y\n",
    "        print(\"Yeah ! Your answer is :\", result)\n",
    "    except ZeroDivisionError:\n",
    "        print(\"Sorry ! You are dividing by zero \")\n",
    " "
   ]
  },
  {
   "cell_type": "code",
   "execution_count": 23,
   "id": "5b6e6499",
   "metadata": {},
   "outputs": [
    {
     "name": "stdout",
     "output_type": "stream",
     "text": [
      "Sorry ! You are dividing by zero \n"
     ]
    }
   ],
   "source": [
    "divide(5,0)"
   ]
  },
  {
   "cell_type": "code",
   "execution_count": null,
   "id": "c8158c62",
   "metadata": {},
   "outputs": [],
   "source": []
  },
  {
   "cell_type": "code",
   "execution_count": null,
   "id": "b5dec5ab",
   "metadata": {},
   "outputs": [],
   "source": []
  }
 ],
 "metadata": {
  "kernelspec": {
   "display_name": "Python 3",
   "language": "python",
   "name": "python3"
  },
  "language_info": {
   "codemirror_mode": {
    "name": "ipython",
    "version": 3
   },
   "file_extension": ".py",
   "mimetype": "text/x-python",
   "name": "python",
   "nbconvert_exporter": "python",
   "pygments_lexer": "ipython3",
   "version": "3.8.8"
  }
 },
 "nbformat": 4,
 "nbformat_minor": 5
}
