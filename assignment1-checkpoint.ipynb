{
 "cells": [
  {
   "cell_type": "code",
   "execution_count": null,
   "metadata": {},
   "outputs": [],
   "source": [
    "# 1. What are the differences between operators and values in the following?\n",
    "\n",
    "1) * === this is asteric symbol used for multiplication in an expression.\n",
    "\n",
    "2) 'hello' === this is string enclosed with quotes.\n",
    "\n",
    "3) -87.8 === this is floating point data type containing minus value.\n",
    "\n",
    "4) - === this is minus operator,used for subtraction in an expression.\n",
    "\n",
    "5) / === this is division operator, used for division operation.\n",
    "\n",
    "6) + === this is plus operator , used for addition operation.\n",
    "\n",
    "7) 6 === this is an integer value.\n",
    "\n",
    "# 2. What is the difference between string and variable?\n",
    "\n",
    "Answer:\n",
    "   Variable  === Python has no command for declaring a variable.A variable is created the moment you first assign a value to it.Variables do not need to be declared with any particular type, and can even change type after they have been set.\n",
    "\n",
    "   string === Strings in python are surrounded by either single quotation marks, or double quotation marks.\n",
    "'smita' is the same as \"smita\".\n",
    "You can display a string literal with the print().strings in Python are arrays of bytes representing unicode characters.\n",
    "However, Python does not have a character data type, a single character is simply a string with a length of 1.\n",
    "Square brackets can be used to access elements of the string.\n",
    "\n",
    "\n",
    "\n",
    "spam\n",
    "'spam'\n",
    "\n",
    "# 3. Describe three different data forms.\n",
    "\n",
    "Answer:  \n",
    "     1)  String === The string data type is used to store text data in it..strings in Python are arrays of bytes representing unicode characters.However, Python does not have a character data type, a single character is simply a string with a length of 1.Square brackets can be used to access elements of the string.\n",
    "\n",
    "     2)  integer === The integer is numeric data type is used to store numbers without any floating points.\n",
    "     \n",
    "     3) Boolean === The boolean data type is used to represent a value True or False\n",
    "     \n",
    "       ex...\n",
    "             True = 1\n",
    "             False = 0\n",
    "     \n",
    "\n",
    "# 4. What makes up an expression? What are the functions of all expressions?\n",
    "\n",
    "\n",
    "Answer: \n",
    "   The combination of variables,values,operators and calls to function makes an expression.Expressions are representations of value. They are different from statement in the fact that statements do something while expressions are representation of value. For example any string is also an expressions since it represents the value of the string as well.\n",
    "   \n",
    "   \n",
    "\n",
    "# 5. In this chapter, assignment statements such as spam = 10 were added. What's the difference between a declaration and an expression?\n",
    "\n",
    "Answer:\n",
    "\n",
    "As we know, the expression is the combination of variables, values, operators and operands and the declaration is assigning a particular value to a variable or the string or anything. The difference between declaration and the expression is as follows:\n",
    "ex...\n",
    "#string declaration\n",
    "    str = \"my name is smita kulkarni\"\n",
    "    \n",
    "    #expression \n",
    "   \n",
    "   a = 5\n",
    "    b = 10\n",
    "    c = 7\n",
    "\n",
    "    add = a + b *c\n",
    "\n",
    "# 6. After running the following code, what does the variable bacon contain?\n",
    "\n",
    "bacon = 22\n",
    "bacon + 1\n",
    "\n",
    "\n",
    "Answer: 23\n",
    "\n",
    " # 7. What should the values of the following two terms be?\n",
    "\n",
    "'spam' + 'spamspam'\n",
    "'spam' * 3\n",
    "\n",
    "# 8. Why is it that eggs is a true variable name but 100 is not?\n",
    "\n",
    "Answer:\n",
    "    \n",
    "    The variable name must be start with an alphabet not by a numeric number.\n",
    "\n",
    "# 9. Which of the following three functions may be used to convert a value to an integer, a floating-point number,\n",
    "or a string?\n",
    "\n",
    "Answer:\n",
    "    \n",
    "    Python allows you to convert strings, integers, and floats interchangeably in a few different ways. \n",
    "    The simplest way to do this is using the basic str() , int() , and float() functions.\n",
    "    \n",
    "# 10. What is the error caused by this expression? What would you do about it?\n",
    "\n",
    "'I have eaten ' + 99 + ' burritos.'\n",
    "\n",
    "Answer:\n",
    "    'I have eaten 99 burritos'\n",
    "    \n",
    "    \n"
   ]
  },
  {
   "cell_type": "code",
   "execution_count": null,
   "metadata": {},
   "outputs": [],
   "source": []
  },
  {
   "cell_type": "code",
   "execution_count": 4,
   "metadata": {},
   "outputs": [
    {
     "name": "stdout",
     "output_type": "stream",
     "text": [
      "10\n",
      "smita\n"
     ]
    }
   ],
   "source": [
    "#Question no. 2\n",
    "# example for variable\n",
    "\n",
    "a = 10\n",
    "b = \"smita\"\n",
    "print(a)\n",
    "print(b)"
   ]
  },
  {
   "cell_type": "code",
   "execution_count": 7,
   "metadata": {},
   "outputs": [
    {
     "data": {
      "text/plain": [
       "23"
      ]
     },
     "execution_count": 7,
     "metadata": {},
     "output_type": "execute_result"
    }
   ],
   "source": [
    "#Question no. 6 output\n",
    "bacon = 22\n",
    "bacon + 1"
   ]
  },
  {
   "cell_type": "code",
   "execution_count": 9,
   "metadata": {},
   "outputs": [
    {
     "data": {
      "text/plain": [
       "'spamspamspam'"
      ]
     },
     "execution_count": 9,
     "metadata": {},
     "output_type": "execute_result"
    }
   ],
   "source": [
    "#Question no. 7 Output\n",
    "\n",
    "\n",
    "'spam' * 3"
   ]
  },
  {
   "cell_type": "code",
   "execution_count": 10,
   "metadata": {},
   "outputs": [
    {
     "data": {
      "text/plain": [
       "'spamspamspam'"
      ]
     },
     "execution_count": 10,
     "metadata": {},
     "output_type": "execute_result"
    }
   ],
   "source": [
    "'spam' + 'spamspam'"
   ]
  },
  {
   "cell_type": "code",
   "execution_count": 11,
   "metadata": {},
   "outputs": [
    {
     "ename": "TypeError",
     "evalue": "can only concatenate str (not \"int\") to str",
     "output_type": "error",
     "traceback": [
      "\u001b[1;31m---------------------------------------------------------------------------\u001b[0m",
      "\u001b[1;31mTypeError\u001b[0m                                 Traceback (most recent call last)",
      "\u001b[1;32m<ipython-input-11-91e2aef225ab>\u001b[0m in \u001b[0;36m<module>\u001b[1;34m\u001b[0m\n\u001b[0;32m      1\u001b[0m \u001b[1;31m#Question no. 10 output\u001b[0m\u001b[1;33m\u001b[0m\u001b[1;33m\u001b[0m\u001b[1;33m\u001b[0m\u001b[0m\n\u001b[1;32m----> 2\u001b[1;33m \u001b[1;34m'I have eaten '\u001b[0m \u001b[1;33m+\u001b[0m \u001b[1;36m99\u001b[0m \u001b[1;33m+\u001b[0m \u001b[1;34m' burritos.'\u001b[0m\u001b[1;33m\u001b[0m\u001b[1;33m\u001b[0m\u001b[0m\n\u001b[0m",
      "\u001b[1;31mTypeError\u001b[0m: can only concatenate str (not \"int\") to str"
     ]
    }
   ],
   "source": [
    "#Question no. 10 output\n",
    "'I have eaten ' + 99 + ' burritos.'\n"
   ]
  },
  {
   "cell_type": "code",
   "execution_count": 12,
   "metadata": {},
   "outputs": [
    {
     "data": {
      "text/plain": [
       "'I have eaten 99 burritos'"
      ]
     },
     "execution_count": 12,
     "metadata": {},
     "output_type": "execute_result"
    }
   ],
   "source": [
    "'I have eaten 99 burritos'"
   ]
  },
  {
   "cell_type": "code",
   "execution_count": null,
   "metadata": {},
   "outputs": [],
   "source": []
  }
 ],
 "metadata": {
  "kernelspec": {
   "display_name": "Python 3",
   "language": "python",
   "name": "python3"
  },
  "language_info": {
   "codemirror_mode": {
    "name": "ipython",
    "version": 3
   },
   "file_extension": ".py",
   "mimetype": "text/x-python",
   "name": "python",
   "nbconvert_exporter": "python",
   "pygments_lexer": "ipython3",
   "version": "3.8.5"
  }
 },
 "nbformat": 4,
 "nbformat_minor": 4
}
